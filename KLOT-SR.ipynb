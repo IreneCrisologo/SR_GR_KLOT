{
 "cells": [
  {
   "cell_type": "code",
   "execution_count": 13,
   "metadata": {
    "ExecuteTime": {
     "end_time": "2019-12-05T21:15:05.628882Z",
     "start_time": "2019-12-05T21:15:05.622897Z"
    }
   },
   "outputs": [
    {
     "name": "stdout",
     "output_type": "stream",
     "text": [
      "Populating the interactive namespace from numpy and matplotlib\n"
     ]
    }
   ],
   "source": [
    "%pylab inline\n",
    "\n",
    "import pyart\n",
    "import wradlib as wrl\n",
    "import pandas as pd\n",
    "import tempfile\n",
    "import os\n",
    "\n",
    "import pytz\n",
    "import datetime as dt\n",
    "\n",
    "from copy import deepcopy\n",
    "\n",
    "# disable warnings\n",
    "import warnings\n",
    "warnings.filterwarnings('ignore')\n"
   ]
  },
  {
   "cell_type": "code",
   "execution_count": 2,
   "metadata": {
    "ExecuteTime": {
     "end_time": "2019-12-05T16:34:04.572418Z",
     "start_time": "2019-12-05T16:34:03.994724Z"
    }
   },
   "outputs": [
    {
     "name": "stderr",
     "output_type": "stream",
     "text": [
      "C:\\Users\\iac6311\\AppData\\Local\\Continuum\\anaconda3\\envs\\saveurproj\\lib\\site-packages\\botocore\\vendored\\requests\\packages\\urllib3\\_collections.py:1: DeprecationWarning: Using or importing the ABCs from 'collections' instead of from 'collections.abc' is deprecated, and in 3.8 it will stop working\n",
      "  from collections import Mapping, MutableMapping\n"
     ]
    }
   ],
   "source": [
    "import boto3\n",
    "from botocore.handlers import disable_signing"
   ]
  },
  {
   "cell_type": "markdown",
   "metadata": {},
   "source": [
    "# Setting up SR parameters"
   ]
  },
  {
   "cell_type": "code",
   "execution_count": 8,
   "metadata": {
    "ExecuteTime": {
     "end_time": "2019-12-05T20:54:50.150329Z",
     "start_time": "2019-12-05T20:54:50.138363Z"
    }
   },
   "outputs": [],
   "source": [
    "# Space-born precipitation radar parameters\n",
    "sr_pars = {\"trmm\": {\n",
    "    \"zt\": 402500.,  # orbital height of TRMM (post boost)   APPROXIMATION!\n",
    "    \"dr\": 250.,     # gate spacing of TRMM\n",
    "}, \"gpm\": {\n",
    "    \"zt\": 407000.,  # orbital height of GPM                 APPROXIMATION!\n",
    "    \"dr\": 125.,      # gate spacing of GPM\n",
    "}}"
   ]
  },
  {
   "cell_type": "code",
   "execution_count": 9,
   "metadata": {
    "ExecuteTime": {
     "end_time": "2019-12-05T20:54:59.541587Z",
     "start_time": "2019-12-05T20:54:59.535602Z"
    }
   },
   "outputs": [],
   "source": [
    "# Set parameters for this procedure\n",
    "\n",
    "platf = \"gpm\"                # SR platform/product: one out of [\"gpm\", \"trmm\"]\n",
    "ee = 0                        # elevation index\n",
    "YEAR = '2015'\n",
    "sweepnum = ['02','03','04','05'][ee]\n",
    "radarname = 'SUB'\n",
    "\n",
    "bw_sr = 0.71                  # SR beam width\n",
    "zt = sr_pars[platf][\"zt\"]     # SR orbit height (meters)\n",
    "dr_sr = sr_pars[platf][\"dr\"]  # SR gate length (meters)"
   ]
  },
  {
   "cell_type": "code",
   "execution_count": 14,
   "metadata": {
    "ExecuteTime": {
     "end_time": "2019-12-05T21:15:10.670833Z",
     "start_time": "2019-12-05T21:15:10.651910Z"
    }
   },
   "outputs": [],
   "source": [
    "def read_gpm(filename):\n",
    "\n",
    "    pr_data = wrl.io.read_generic_hdf5(filename)\n",
    "\n",
    "    lon = pr_data['NS/Longitude']['data']\n",
    "    lat = pr_data['NS/Latitude']['data']\n",
    "\n",
    "    year = pr_data['NS/ScanTime/Year']['data']\n",
    "    month = pr_data['NS/ScanTime/Month']['data']\n",
    "    dayofmonth = pr_data['NS/ScanTime/DayOfMonth']['data']\n",
    "    dayofyear = pr_data['NS/ScanTime/DayOfYear']['data']\n",
    "    hour = pr_data['NS/ScanTime/Hour']['data']\n",
    "    minute = pr_data['NS/ScanTime/Minute']['data']\n",
    "    second = pr_data['NS/ScanTime/Second']['data']\n",
    "    secondofday = pr_data['NS/ScanTime/SecondOfDay']['data']\n",
    "    millisecond = pr_data['NS/ScanTime/MilliSecond']['data']\n",
    "    date_array = zip(year, month, dayofmonth,\n",
    "                     hour, minute, second,\n",
    "                     millisecond.astype(np.int32) * 1000)\n",
    "    pr_time = np.array(\n",
    "        [dt.datetime(d[0], d[1], d[2], d[3], d[4], d[5], d[6]) for d in\n",
    "         date_array])\n",
    "\n",
    "    sfc = pr_data['NS/PRE/landSurfaceType']['data']\n",
    "    pflag = pr_data['NS/PRE/flagPrecip']['data']\n",
    "\n",
    "    bbflag = pr_data['NS/CSF/flagBB']['data']\n",
    "    zbb = pr_data['NS/CSF/heightBB']['data']\n",
    "    bbwidth = pr_data['NS/CSF/widthBB']['data']\n",
    "    qbb = pr_data['NS/CSF/qualityBB']['data']\n",
    "    qtype = pr_data['NS/CSF/qualityTypePrecip']['data']\n",
    "    ptype = pr_data['NS/CSF/typePrecip']['data']\n",
    "\n",
    "    quality = pr_data['NS/scanStatus/dataQuality']['data']\n",
    "    refl = pr_data['NS/SLV/zFactorCorrected']['data']\n",
    "\n",
    "    # Check for bad data\n",
    "    if max(quality) != 0:\n",
    "        raise ValueError('GPM contains Bad Data')\n",
    "\n",
    "    pflag = pflag.astype(np.int8)\n",
    "\n",
    "    # Determine the dimensions\n",
    "    ndim = refl.ndim\n",
    "    if ndim != 3:\n",
    "        raise ValueError('GPM Dimensions do not match! Needed 3, given {0}'.format(ndim))\n",
    "\n",
    "    tmp = refl.shape\n",
    "    nscan = tmp[0]\n",
    "    nray = tmp[1]\n",
    "    nbin = tmp[2]\n",
    "\n",
    "    # Reverse direction along the beam\n",
    "    # TODO: Why is this reversed?\n",
    "    refl = refl[::-1]\n",
    "\n",
    "    # Change pflag=1 to pflag=2 to be consistent with 'Rain certain' in TRMM\n",
    "    pflag[pflag == 1] = 2\n",
    "\n",
    "    # Simplify the precipitation types\n",
    "    ptype = (ptype/1e7).astype(np.int16)\n",
    "\n",
    "    # Simplify the surface types\n",
    "    imiss = (sfc == -9999)\n",
    "    sfc = (sfc/1e2).astype(np.int16) + 1\n",
    "    sfc[imiss] = 0\n",
    "\t\n",
    "\t# Missing Data\n",
    "    refl[refl == -9999.90039062] = np.nan\n",
    "\n",
    "    # Set a quality indicator for the BB and precip type data\n",
    "    # TODO: Why is the `quality` variable overwritten?\n",
    "\n",
    "    quality = np.zeros((nscan, nray), dtype=np.uint8)\n",
    "\n",
    "    i1 = ((qbb == 0) | (qbb == 1)) & (qtype == 1)\n",
    "    quality[i1] = 1\n",
    "\n",
    "    i2 = ((qbb > 1) | (qtype > 2))\n",
    "    quality[i2] = 2\n",
    "\n",
    "    gpm_data = {}\n",
    "    gpm_data.update({'nscan': nscan, 'nray': nray, 'nbin': nbin,\n",
    "                     'date': pr_time, 'lon': lon, 'lat': lat,\n",
    "                     'pflag': pflag, 'ptype': ptype, 'zbb': zbb,\n",
    "                     'bbwidth': bbwidth, 'sfc': sfc, 'quality': quality,\n",
    "                     'refl': refl})\n",
    "\n",
    "    return gpm_data\n"
   ]
  },
  {
   "cell_type": "markdown",
   "metadata": {},
   "source": [
    "# Define and read data\n",
    "\n",
    "##  Define GPM Data set"
   ]
  },
  {
   "cell_type": "code",
   "execution_count": 10,
   "metadata": {
    "ExecuteTime": {
     "end_time": "2019-12-05T20:56:30.459240Z",
     "start_time": "2019-12-05T20:56:30.455251Z"
    }
   },
   "outputs": [],
   "source": [
    "gpm_file = 'C:/Users/iac6311/Documents/Work/Data/GPM/2A-IL-91W43N86W38N.GPM.Ku.V8-20180723.20190526-S170152-E170250.029776.V06A.HDF5'"
   ]
  },
  {
   "cell_type": "code",
   "execution_count": 15,
   "metadata": {
    "ExecuteTime": {
     "end_time": "2019-12-05T21:18:08.830719Z",
     "start_time": "2019-12-05T21:18:08.706805Z"
    }
   },
   "outputs": [],
   "source": [
    "sr_data = wrl.io.read_gpm(gpm_file)"
   ]
  },
  {
   "cell_type": "code",
   "execution_count": null,
   "metadata": {},
   "outputs": [],
   "source": []
  },
  {
   "cell_type": "code",
   "execution_count": null,
   "metadata": {},
   "outputs": [],
   "source": []
  },
  {
   "cell_type": "code",
   "execution_count": null,
   "metadata": {},
   "outputs": [],
   "source": []
  },
  {
   "cell_type": "code",
   "execution_count": null,
   "metadata": {},
   "outputs": [],
   "source": []
  },
  {
   "cell_type": "markdown",
   "metadata": {},
   "source": [
    "\n",
    "# Download radar data\n",
    "NEXRAD data is downloaded from Amazon S3.\n",
    "\n",
    "Define function to download data."
   ]
  },
  {
   "cell_type": "code",
   "execution_count": 3,
   "metadata": {
    "ExecuteTime": {
     "end_time": "2019-12-05T16:35:02.627010Z",
     "start_time": "2019-12-05T16:35:02.611426Z"
    }
   },
   "outputs": [],
   "source": [
    "def get_radar_scan(station='KLOT', date=None, key_index=-20):\n",
    "    \n",
    "    '''\n",
    "    Function will pull the latest radar scan from any radar site using \n",
    "    Amazon S3.\n",
    "    ----------\n",
    "    Station = Four letter NEXRAD identifier\n",
    "              Example: 'KEPZ'\n",
    "    Date = default is none for current date, else enter date in format \"YYYY/MM/DD\"\n",
    "    Ex: date ='2013/11/17\n",
    "    Key_index = Number of keys you want pulled from most recent scan.\n",
    "    Ex: key_index = -15 would pull ht most recent 15 scans\n",
    "    '''\n",
    "    \n",
    "    # Creating a bucket and a client to be able to pull data from AWS and setting it as unsigned\n",
    "    bucket = 'noaa-nexrad-level2'\n",
    "    s3 = boto3.resource('s3')\n",
    "    s3.meta.client.meta.events.register('choose-signer.s3.*', disable_signing)\n",
    "    \n",
    "    # Connects the bucket create above with radar data\n",
    "    aws_radar = s3.Bucket(bucket)\n",
    "    \n",
    "    # Setting the date and time to current...\n",
    "    # This will allow for allow the current date's radar scands to be pulled\n",
    "    if date == None:\n",
    "        target_string = datetime.datetime.utcnow().strftime('%Y/%m/%d/'+station)\n",
    "    else:\n",
    "        target_string = date+'/'+station\n",
    "    \n",
    "    for obj in aws_radar.objects.filter(Prefix= target_string):\n",
    "        '{0}:{1}'.format(aws_radar.name, obj.key)\n",
    "    my_list_of_keys = [this_object.key for this_object in aws_radar.objects.filter(Prefix= target_string)]\n",
    "    keys = my_list_of_keys[key_index:]\n",
    "    newkeys = []\n",
    "    for key in keys:\n",
    "        if 'MDM' in key:\n",
    "            pass\n",
    "        elif key.endswith('.tar'):\n",
    "            pass\n",
    "        else:\n",
    "            newkeys.append(key)\n",
    "    #print(newkeys)\n",
    "    return aws_radar, newkeys"
   ]
  },
  {
   "cell_type": "code",
   "execution_count": 17,
   "metadata": {
    "ExecuteTime": {
     "end_time": "2019-12-05T21:41:07.529651Z",
     "start_time": "2019-12-05T21:41:06.930986Z"
    }
   },
   "outputs": [],
   "source": [
    "# Setting radar, date of radar scans needed, and key index (amount of items in list)\n",
    "aws_radar, keys = get_radar_scan(station='KLOT', date='2019/05/26', key_index=-400)"
   ]
  },
  {
   "cell_type": "markdown",
   "metadata": {},
   "source": [
    "Using the function defined above, we can download the file, save it to a temporary file, read the radar object using pyart, then delete the file to save space."
   ]
  },
  {
   "cell_type": "code",
   "execution_count": 30,
   "metadata": {
    "ExecuteTime": {
     "end_time": "2019-12-05T21:50:33.427315Z",
     "start_time": "2019-12-05T21:50:28.863778Z"
    }
   },
   "outputs": [],
   "source": [
    "# loop through the keys by iterating nframe\n",
    "nframe = 175\n",
    "\n",
    "# open a temporary local file\n",
    "localfile = tempfile.NamedTemporaryFile(delete=False)\n",
    "localfile_name = localfile.name\n",
    "localfile.close()\n",
    "\n",
    "# download to temporary file and read to radar object using pyart\n",
    "aws_radar.download_file(keys[nframe], localfile_name)\n",
    "radar = pyart.io.read(localfile_name)\n",
    "\n",
    "# delete temporary file to save space\n",
    "os.remove(localfile_name)"
   ]
  },
  {
   "cell_type": "markdown",
   "metadata": {},
   "source": [
    "# Extract reflectivity\n",
    "The radar object contains reflectivty data, among other variables. We want to extract the reflectivity to compare to GPM reflectivity."
   ]
  },
  {
   "cell_type": "code",
   "execution_count": 31,
   "metadata": {
    "ExecuteTime": {
     "end_time": "2019-12-05T21:50:36.676235Z",
     "start_time": "2019-12-05T21:50:36.523566Z"
    }
   },
   "outputs": [],
   "source": [
    "gatefilter = pyart.filters.GateFilter(radar)\n",
    "# Develop your gatefilter first\n",
    "# exclude masked gates from the gridding\n",
    "#gatefilter = pyart.filters.GateFilter(radar)\n",
    "gatefilter.exclude_transition()\n",
    "gatefilter.exclude_masked('reflectivity')\n",
    "# Mask reflectivity\n",
    "radar.fields[\"corrected_reflectivity\"] = deepcopy(radar.fields[\"reflectivity\"])\n",
    "radar.fields[\"corrected_reflectivity\"][\"data\"] = np.ma.masked_where(\n",
    "    gatefilter._gate_excluded, radar.fields[\"corrected_reflectivity\"][\"data\"])"
   ]
  },
  {
   "cell_type": "markdown",
   "metadata": {},
   "source": [
    "### read GR cfradial"
   ]
  },
  {
   "cell_type": "code",
   "execution_count": 32,
   "metadata": {
    "ExecuteTime": {
     "end_time": "2019-12-05T21:51:15.428560Z",
     "start_time": "2019-12-05T21:51:14.956906Z"
    }
   },
   "outputs": [
    {
     "ename": "TypeError",
     "evalue": "'Radar' object is not subscriptable",
     "output_type": "error",
     "traceback": [
      "\u001b[1;31m---------------------------------------------------------------------------\u001b[0m",
      "\u001b[1;31mTypeError\u001b[0m                                 Traceback (most recent call last)",
      "\u001b[1;32m<ipython-input-32-011989da71ea>\u001b[0m in \u001b[0;36m<module>\u001b[1;34m\u001b[0m\n\u001b[1;32m----> 1\u001b[1;33m \u001b[0mdate\u001b[0m \u001b[1;33m=\u001b[0m \u001b[0mradar\u001b[0m\u001b[1;33m[\u001b[0m\u001b[1;34m'date'\u001b[0m\u001b[1;33m]\u001b[0m\u001b[1;33m\u001b[0m\u001b[1;33m\u001b[0m\u001b[0m\n\u001b[0m",
      "\u001b[1;31mTypeError\u001b[0m: 'Radar' object is not subscriptable"
     ]
    }
   ],
   "source": [
    "date = radar['date']"
   ]
  },
  {
   "cell_type": "code",
   "execution_count": 36,
   "metadata": {
    "ExecuteTime": {
     "end_time": "2019-12-05T21:51:36.302445Z",
     "start_time": "2019-12-05T21:51:36.298454Z"
    }
   },
   "outputs": [
    {
     "data": {
      "text/plain": [
       "['__class__',\n",
       " '__delattr__',\n",
       " '__dict__',\n",
       " '__dir__',\n",
       " '__doc__',\n",
       " '__eq__',\n",
       " '__format__',\n",
       " '__ge__',\n",
       " '__getattribute__',\n",
       " '__getstate__',\n",
       " '__gt__',\n",
       " '__hash__',\n",
       " '__init__',\n",
       " '__init_subclass__',\n",
       " '__le__',\n",
       " '__lt__',\n",
       " '__module__',\n",
       " '__ne__',\n",
       " '__new__',\n",
       " '__reduce__',\n",
       " '__reduce_ex__',\n",
       " '__repr__',\n",
       " '__setattr__',\n",
       " '__setstate__',\n",
       " '__sizeof__',\n",
       " '__str__',\n",
       " '__subclasshook__',\n",
       " '__weakref__',\n",
       " '_check_sweep_in_range',\n",
       " '_dic_info',\n",
       " 'add_field',\n",
       " 'add_field_like',\n",
       " 'altitude',\n",
       " 'altitude_agl',\n",
       " 'antenna_transition',\n",
       " 'azimuth',\n",
       " 'check_field_exists',\n",
       " 'drift',\n",
       " 'elevation',\n",
       " 'extract_sweeps',\n",
       " 'fields',\n",
       " 'fixed_angle',\n",
       " 'gate_altitude',\n",
       " 'gate_latitude',\n",
       " 'gate_longitude',\n",
       " 'gate_x',\n",
       " 'gate_y',\n",
       " 'gate_z',\n",
       " 'georefs_applied',\n",
       " 'get_azimuth',\n",
       " 'get_elevation',\n",
       " 'get_end',\n",
       " 'get_field',\n",
       " 'get_gate_x_y_z',\n",
       " 'get_nyquist_vel',\n",
       " 'get_slice',\n",
       " 'get_start',\n",
       " 'get_start_end',\n",
       " 'heading',\n",
       " 'info',\n",
       " 'init_gate_altitude',\n",
       " 'init_gate_longitude_latitude',\n",
       " 'init_gate_x_y_z',\n",
       " 'init_rays_per_sweep',\n",
       " 'instrument_parameters',\n",
       " 'iter_azimuth',\n",
       " 'iter_elevation',\n",
       " 'iter_end',\n",
       " 'iter_field',\n",
       " 'iter_slice',\n",
       " 'iter_start',\n",
       " 'iter_start_end',\n",
       " 'latitude',\n",
       " 'longitude',\n",
       " 'metadata',\n",
       " 'ngates',\n",
       " 'nrays',\n",
       " 'nsweeps',\n",
       " 'pitch',\n",
       " 'projection',\n",
       " 'radar_calibration',\n",
       " 'range',\n",
       " 'ray_angle_res',\n",
       " 'rays_are_indexed',\n",
       " 'rays_per_sweep',\n",
       " 'roll',\n",
       " 'rotation',\n",
       " 'scan_rate',\n",
       " 'scan_type',\n",
       " 'sweep_end_ray_index',\n",
       " 'sweep_mode',\n",
       " 'sweep_number',\n",
       " 'sweep_start_ray_index',\n",
       " 'target_scan_rate',\n",
       " 'tilt',\n",
       " 'time']"
      ]
     },
     "execution_count": 36,
     "metadata": {},
     "output_type": "execute_result"
    }
   ],
   "source": [
    "dir(radar)"
   ]
  },
  {
   "cell_type": "code",
   "execution_count": 58,
   "metadata": {
    "ExecuteTime": {
     "end_time": "2019-12-05T22:08:32.940224Z",
     "start_time": "2019-12-05T22:08:32.935237Z"
    }
   },
   "outputs": [],
   "source": [
    "date = dt.datetime.strptime(radar.time['units'],'seconds since %Y-%m-%dT%H:%M:%SZ')\n",
    "source = 'reflectivity'\n",
    "\n",
    "lat = radar.latitude['data'][0]\n",
    "lon = radar.longitude['data'][0]\n",
    "alt = radar.altitude['data'][0]\n",
    "\n",
    "ngate = radar.ngates # number of gates in gr beam\n",
    "nbeam = radar.nrays # number of rays in gr sweep\n",
    "r0 = radar.range['data'][0]# range of first gate\n",
    "dr = radar.range['meters_between_gates']# gate length (m)\n",
    "a0 = radar.azimuth['data'][0] # azimuth angle of first beam"
   ]
  },
  {
   "cell_type": "code",
   "execution_count": 57,
   "metadata": {
    "ExecuteTime": {
     "end_time": "2019-12-05T22:07:58.295152Z",
     "start_time": "2019-12-05T22:07:58.290165Z"
    }
   },
   "outputs": [
    {
     "data": {
      "text/plain": [
       "{'units': 'meters',\n",
       " 'standard_name': 'projection_range_coordinate',\n",
       " 'long_name': 'range_to_measurement_volume',\n",
       " 'axis': 'radial_range_coordinate',\n",
       " 'spacing_is_constant': 'true',\n",
       " 'comment': 'Coordinate variable for range. Range to center of each bin.',\n",
       " 'data': array([  2125.,   2375.,   2625., ..., 459375., 459625., 459875.],\n",
       "       dtype=float32),\n",
       " 'meters_to_center_of_first_gate': 2125.0,\n",
       " 'meters_between_gates': 250.0}"
      ]
     },
     "execution_count": 57,
     "metadata": {},
     "output_type": "execute_result"
    }
   ],
   "source": [
    "radar.range"
   ]
  },
  {
   "cell_type": "code",
   "execution_count": null,
   "metadata": {},
   "outputs": [],
   "source": [
    "# # number of rays in gr sweep\n",
    "# try:\n",
    "#     nray_gr = gr_data['nbeam'].astype(\"i4\")[ee]\n",
    "# except IndexError:\n",
    "#     raise RadarFileError\n",
    "# # number of gates in gr beam\n",
    "# ngate_gr = gr_data['ngate'].astype(\"i4\")[ee]\n",
    "# # number of sweeps\n",
    "# nelev = gr_data['ntilt']\n",
    "# # elevation of sweep (degree)\n",
    "# elev_gr = gr_data['elang'][ee]\n",
    "# # gate length (meters)\n",
    "# dr_gr = gr_data['dr'][ee]\n",
    "# # reflectivity array of sweep\n",
    "# ref_gr = gr_data['refl'][ee]\n",
    "# # sweep datetime stamp\n",
    "# date_gr = gr_data['sdate'][ee]\n",
    "# # range of first gate\n",
    "# r0_gr = gr_data['r0'][ee]                    \n",
    "# # azimuth angle of first beam\n",
    "# a0_gr = gr_data['a0'][ee]\n",
    "# # Longitude of GR\n",
    "# lon0_gr = gr_data['lon']\n",
    "# # Latitude of GR\n",
    "# lat0_gr = gr_data['lat']\n",
    "# # Altitude of GR (meters)\n",
    "# alt0_gr = gr_data['alt']\n",
    "# # Beam width of GR (degree)\n",
    "# bw_gr = 1."
   ]
  }
 ],
 "metadata": {
  "kernelspec": {
   "display_name": "Python [conda env:saveurproj]",
   "language": "python",
   "name": "conda-env-saveurproj-py"
  },
  "language_info": {
   "codemirror_mode": {
    "name": "ipython",
    "version": 3
   },
   "file_extension": ".py",
   "mimetype": "text/x-python",
   "name": "python",
   "nbconvert_exporter": "python",
   "pygments_lexer": "ipython3",
   "version": "3.7.3"
  },
  "varInspector": {
   "cols": {
    "lenName": 16,
    "lenType": 16,
    "lenVar": 40
   },
   "kernels_config": {
    "python": {
     "delete_cmd_postfix": "",
     "delete_cmd_prefix": "del ",
     "library": "var_list.py",
     "varRefreshCmd": "print(var_dic_list())"
    },
    "r": {
     "delete_cmd_postfix": ") ",
     "delete_cmd_prefix": "rm(",
     "library": "var_list.r",
     "varRefreshCmd": "cat(var_dic_list()) "
    }
   },
   "types_to_exclude": [
    "module",
    "function",
    "builtin_function_or_method",
    "instance",
    "_Feature"
   ],
   "window_display": false
  }
 },
 "nbformat": 4,
 "nbformat_minor": 2
}
